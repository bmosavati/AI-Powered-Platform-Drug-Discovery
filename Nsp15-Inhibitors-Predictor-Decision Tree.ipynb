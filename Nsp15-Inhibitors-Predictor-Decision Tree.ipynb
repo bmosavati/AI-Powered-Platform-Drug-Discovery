{
 "cells": [
  {
   "cell_type": "code",
   "execution_count": 1,
   "id": "05a06e8d",
   "metadata": {},
   "outputs": [],
   "source": [
    "import pandas as pd\n",
    "import numpy as np"
   ]
  },
  {
   "cell_type": "code",
   "execution_count": 2,
   "id": "0d98ef78",
   "metadata": {
    "scrolled": true
   },
   "outputs": [
    {
     "data": {
      "text/html": [
       "<div>\n",
       "<style scoped>\n",
       "    .dataframe tbody tr th:only-of-type {\n",
       "        vertical-align: middle;\n",
       "    }\n",
       "\n",
       "    .dataframe tbody tr th {\n",
       "        vertical-align: top;\n",
       "    }\n",
       "\n",
       "    .dataframe thead th {\n",
       "        text-align: right;\n",
       "    }\n",
       "</style>\n",
       "<table border=\"1\" class=\"dataframe\">\n",
       "  <thead>\n",
       "    <tr style=\"text-align: right;\">\n",
       "      <th></th>\n",
       "      <th>SMILES</th>\n",
       "      <th>RESULT</th>\n",
       "    </tr>\n",
       "  </thead>\n",
       "  <tbody>\n",
       "    <tr>\n",
       "      <th>0</th>\n",
       "      <td>CC=1N=C(C)N(N1)C2CCCN(C2)C(=O)C=C</td>\n",
       "      <td>0</td>\n",
       "    </tr>\n",
       "    <tr>\n",
       "      <th>1</th>\n",
       "      <td>CN(CC1=NC=2CCCCC2S1)C(=O)C=C</td>\n",
       "      <td>0</td>\n",
       "    </tr>\n",
       "    <tr>\n",
       "      <th>2</th>\n",
       "      <td>CC=1C=CC=C2N=C(OC12)C3CCN(CC3)C(=O)C=C</td>\n",
       "      <td>0</td>\n",
       "    </tr>\n",
       "    <tr>\n",
       "      <th>3</th>\n",
       "      <td>COC=1C=CC=2NC=C(C3=CCN(CC3)C(=O)C=C)C2C1</td>\n",
       "      <td>0</td>\n",
       "    </tr>\n",
       "    <tr>\n",
       "      <th>4</th>\n",
       "      <td>C=CC(=O)NCC1COC=2C=CC=CC2O1</td>\n",
       "      <td>0</td>\n",
       "    </tr>\n",
       "    <tr>\n",
       "      <th>...</th>\n",
       "      <td>...</td>\n",
       "      <td>...</td>\n",
       "    </tr>\n",
       "    <tr>\n",
       "      <th>420</th>\n",
       "      <td>CS(=O)(=O)NCC1COCCN1C(=O)C=C</td>\n",
       "      <td>1</td>\n",
       "    </tr>\n",
       "    <tr>\n",
       "      <th>421</th>\n",
       "      <td>COC=1C=CC=C(C1)C2CN(CCO2)C(=O)C=C</td>\n",
       "      <td>1</td>\n",
       "    </tr>\n",
       "    <tr>\n",
       "      <th>422</th>\n",
       "      <td>C[C@@H](NC(=O)C=C)C=1C=NC=CN1</td>\n",
       "      <td>1</td>\n",
       "    </tr>\n",
       "    <tr>\n",
       "      <th>423</th>\n",
       "      <td>CC(C)N1C=C(N=N1)C2=CCCN(CC2)C(=O)C=C</td>\n",
       "      <td>1</td>\n",
       "    </tr>\n",
       "    <tr>\n",
       "      <th>424</th>\n",
       "      <td>C=CC(=O)N1CCC=2C1=CC=CC2C3CC3</td>\n",
       "      <td>1</td>\n",
       "    </tr>\n",
       "  </tbody>\n",
       "</table>\n",
       "<p>425 rows × 2 columns</p>\n",
       "</div>"
      ],
      "text/plain": [
       "                                       SMILES  RESULT\n",
       "0           CC=1N=C(C)N(N1)C2CCCN(C2)C(=O)C=C       0\n",
       "1                CN(CC1=NC=2CCCCC2S1)C(=O)C=C       0\n",
       "2      CC=1C=CC=C2N=C(OC12)C3CCN(CC3)C(=O)C=C       0\n",
       "3    COC=1C=CC=2NC=C(C3=CCN(CC3)C(=O)C=C)C2C1       0\n",
       "4                 C=CC(=O)NCC1COC=2C=CC=CC2O1       0\n",
       "..                                        ...     ...\n",
       "420              CS(=O)(=O)NCC1COCCN1C(=O)C=C       1\n",
       "421         COC=1C=CC=C(C1)C2CN(CCO2)C(=O)C=C       1\n",
       "422             C[C@@H](NC(=O)C=C)C=1C=NC=CN1       1\n",
       "423      CC(C)N1C=C(N=N1)C2=CCCN(CC2)C(=O)C=C       1\n",
       "424             C=CC(=O)N1CCC=2C1=CC=CC2C3CC3       1\n",
       "\n",
       "[425 rows x 2 columns]"
      ]
     },
     "execution_count": 2,
     "metadata": {},
     "output_type": "execute_result"
    }
   ],
   "source": [
    "sol=pd.read_csv('SMILES-DATA- NEW.csv')\n",
    "sol"
   ]
  },
  {
   "cell_type": "code",
   "execution_count": 3,
   "id": "d84e88e9",
   "metadata": {
    "scrolled": true
   },
   "outputs": [
    {
     "data": {
      "text/plain": [
       "0             CC=1N=C(C)N(N1)C2CCCN(C2)C(=O)C=C\n",
       "1                  CN(CC1=NC=2CCCCC2S1)C(=O)C=C\n",
       "2        CC=1C=CC=C2N=C(OC12)C3CCN(CC3)C(=O)C=C\n",
       "3      COC=1C=CC=2NC=C(C3=CCN(CC3)C(=O)C=C)C2C1\n",
       "4                   C=CC(=O)NCC1COC=2C=CC=CC2O1\n",
       "                         ...                   \n",
       "420                CS(=O)(=O)NCC1COCCN1C(=O)C=C\n",
       "421           COC=1C=CC=C(C1)C2CN(CCO2)C(=O)C=C\n",
       "422               C[C@@H](NC(=O)C=C)C=1C=NC=CN1\n",
       "423        CC(C)N1C=C(N=N1)C2=CCCN(CC2)C(=O)C=C\n",
       "424               C=CC(=O)N1CCC=2C1=CC=CC2C3CC3\n",
       "Name: SMILES, Length: 425, dtype: object"
      ]
     },
     "execution_count": 3,
     "metadata": {},
     "output_type": "execute_result"
    }
   ],
   "source": [
    "sol.SMILES"
   ]
  },
  {
   "cell_type": "code",
   "execution_count": 4,
   "id": "4332900d",
   "metadata": {},
   "outputs": [
    {
     "data": {
      "text/plain": [
       "'C=CC(=O)NC=1C=CC=C(C1)N2CCCS2(=O)=O'"
      ]
     },
     "execution_count": 4,
     "metadata": {},
     "output_type": "execute_result"
    }
   ],
   "source": [
    "sol.SMILES[8]"
   ]
  },
  {
   "cell_type": "code",
   "execution_count": 5,
   "id": "218ceef7",
   "metadata": {},
   "outputs": [],
   "source": [
    "from rdkit import Chem\n",
    "#from rdkit.Chem import MACCSkeys\n",
    "from rdkit.Chem import rdFMCS"
   ]
  },
  {
   "cell_type": "code",
   "execution_count": 6,
   "id": "b81c8fc1",
   "metadata": {
    "scrolled": true
   },
   "outputs": [
    {
     "data": {
      "image/png": "[encoded data removed]",
      "text/plain": [
       "<rdkit.Chem.rdchem.Mol at 0x1ab175a1bd0>"
      ]
     },
     "execution_count": 6,
     "metadata": {},
     "output_type": "execute_result"
    }
   ],
   "source": [
    "Chem.MolFromSmiles(sol.SMILES[2]) "
   ]
  },
  {
   "cell_type": "code",
   "execution_count": 7,
   "id": "958f7a1c",
   "metadata": {},
   "outputs": [
    {
     "name": "stdout",
     "output_type": "stream",
     "text": [
      "<PIL.PngImagePlugin.PngImageFile image mode=RGB size=300x300 at 0x1AB175E8310>\n"
     ]
    }
   ],
   "source": [
    "for smiles in sol.SMILES[:1]:\n",
    "    mol = Chem.MolFromSmiles(smiles)\n",
    "    if mol is not None:\n",
    "        # Display or process the molecular structure as needed\n",
    "        # For example, you can save the structure as an image\n",
    "        img = Chem.Draw.MolToImage(mol)\n",
    "        img.show()\n",
    "        print(img)"
   ]
  },
  {
   "cell_type": "code",
   "execution_count": 8,
   "id": "dd1029f4",
   "metadata": {},
   "outputs": [],
   "source": [
    "mol_list=[]\n",
    "for element in sol.SMILES:\n",
    "    mol=Chem.MolFromSmiles(element)\n",
    "    #print(mol)\n",
    "    mol_list.append(mol)"
   ]
  },
  {
   "cell_type": "code",
   "execution_count": 9,
   "id": "d105fe59",
   "metadata": {},
   "outputs": [
    {
     "data": {
      "text/plain": [
       "425"
      ]
     },
     "execution_count": 9,
     "metadata": {},
     "output_type": "execute_result"
    }
   ],
   "source": [
    "len(mol_list)"
   ]
  },
  {
   "cell_type": "code",
   "execution_count": 10,
   "id": "6c625e17",
   "metadata": {},
   "outputs": [
    {
     "data": {
      "text/plain": [
       "[<rdkit.Chem.rdchem.Mol at 0x1ab175a3840>,\n",
       " <rdkit.Chem.rdchem.Mol at 0x1ab175a1e70>,\n",
       " <rdkit.Chem.rdchem.Mol at 0x1ab175a38b0>,\n",
       " <rdkit.Chem.rdchem.Mol at 0x1ab175a3920>,\n",
       " <rdkit.Chem.rdchem.Mol at 0x1ab175a3990>]"
      ]
     },
     "execution_count": 10,
     "metadata": {},
     "output_type": "execute_result"
    }
   ],
   "source": [
    "mol_list[:5]"
   ]
  },
  {
   "cell_type": "code",
   "execution_count": 11,
   "id": "e8e2109b",
   "metadata": {},
   "outputs": [
    {
     "data": {
      "text/html": [
       "<div>\n",
       "<style scoped>\n",
       "    .dataframe tbody tr th:only-of-type {\n",
       "        vertical-align: middle;\n",
       "    }\n",
       "\n",
       "    .dataframe tbody tr th {\n",
       "        vertical-align: top;\n",
       "    }\n",
       "\n",
       "    .dataframe thead th {\n",
       "        text-align: right;\n",
       "    }\n",
       "</style>\n",
       "<table border=\"1\" class=\"dataframe\">\n",
       "  <thead>\n",
       "    <tr style=\"text-align: right;\">\n",
       "      <th></th>\n",
       "      <th>SMILES</th>\n",
       "      <th>RESULT</th>\n",
       "    </tr>\n",
       "  </thead>\n",
       "  <tbody>\n",
       "    <tr>\n",
       "      <th>0</th>\n",
       "      <td>CC=1N=C(C)N(N1)C2CCCN(C2)C(=O)C=C</td>\n",
       "      <td>0</td>\n",
       "    </tr>\n",
       "    <tr>\n",
       "      <th>1</th>\n",
       "      <td>CN(CC1=NC=2CCCCC2S1)C(=O)C=C</td>\n",
       "      <td>0</td>\n",
       "    </tr>\n",
       "    <tr>\n",
       "      <th>2</th>\n",
       "      <td>CC=1C=CC=C2N=C(OC12)C3CCN(CC3)C(=O)C=C</td>\n",
       "      <td>0</td>\n",
       "    </tr>\n",
       "    <tr>\n",
       "      <th>3</th>\n",
       "      <td>COC=1C=CC=2NC=C(C3=CCN(CC3)C(=O)C=C)C2C1</td>\n",
       "      <td>0</td>\n",
       "    </tr>\n",
       "    <tr>\n",
       "      <th>4</th>\n",
       "      <td>C=CC(=O)NCC1COC=2C=CC=CC2O1</td>\n",
       "      <td>0</td>\n",
       "    </tr>\n",
       "  </tbody>\n",
       "</table>\n",
       "</div>"
      ],
      "text/plain": [
       "                                     SMILES  RESULT\n",
       "0         CC=1N=C(C)N(N1)C2CCCN(C2)C(=O)C=C       0\n",
       "1              CN(CC1=NC=2CCCCC2S1)C(=O)C=C       0\n",
       "2    CC=1C=CC=C2N=C(OC12)C3CCN(CC3)C(=O)C=C       0\n",
       "3  COC=1C=CC=2NC=C(C3=CCN(CC3)C(=O)C=C)C2C1       0\n",
       "4               C=CC(=O)NCC1COC=2C=CC=CC2O1       0"
      ]
     },
     "execution_count": 11,
     "metadata": {},
     "output_type": "execute_result"
    }
   ],
   "source": [
    "sol.head()"
   ]
  },
  {
   "cell_type": "code",
   "execution_count": 12,
   "id": "67ec0e46",
   "metadata": {},
   "outputs": [],
   "source": [
    "import numpy as np\n",
    "#from rdkit.Chem import Descriptors"
   ]
  },
  {
   "cell_type": "code",
   "execution_count": 13,
   "id": "36e865a4",
   "metadata": {
    "scrolled": false
   },
   "outputs": [],
   "source": [
    "#X=sol.drop(['type','results'],axis='columns')\n",
    "X=sol.drop(['RESULT'],axis='columns')\n",
    "Y=sol['RESULT']\n"
   ]
  },
  {
   "cell_type": "code",
   "execution_count": 14,
   "id": "1f98aeb1",
   "metadata": {},
   "outputs": [
    {
     "data": {
      "text/html": [
       "<div>\n",
       "<style scoped>\n",
       "    .dataframe tbody tr th:only-of-type {\n",
       "        vertical-align: middle;\n",
       "    }\n",
       "\n",
       "    .dataframe tbody tr th {\n",
       "        vertical-align: top;\n",
       "    }\n",
       "\n",
       "    .dataframe thead th {\n",
       "        text-align: right;\n",
       "    }\n",
       "</style>\n",
       "<table border=\"1\" class=\"dataframe\">\n",
       "  <thead>\n",
       "    <tr style=\"text-align: right;\">\n",
       "      <th></th>\n",
       "      <th>SMILES</th>\n",
       "    </tr>\n",
       "  </thead>\n",
       "  <tbody>\n",
       "    <tr>\n",
       "      <th>0</th>\n",
       "      <td>CC=1N=C(C)N(N1)C2CCCN(C2)C(=O)C=C</td>\n",
       "    </tr>\n",
       "    <tr>\n",
       "      <th>1</th>\n",
       "      <td>CN(CC1=NC=2CCCCC2S1)C(=O)C=C</td>\n",
       "    </tr>\n",
       "    <tr>\n",
       "      <th>2</th>\n",
       "      <td>CC=1C=CC=C2N=C(OC12)C3CCN(CC3)C(=O)C=C</td>\n",
       "    </tr>\n",
       "    <tr>\n",
       "      <th>3</th>\n",
       "      <td>COC=1C=CC=2NC=C(C3=CCN(CC3)C(=O)C=C)C2C1</td>\n",
       "    </tr>\n",
       "    <tr>\n",
       "      <th>4</th>\n",
       "      <td>C=CC(=O)NCC1COC=2C=CC=CC2O1</td>\n",
       "    </tr>\n",
       "    <tr>\n",
       "      <th>...</th>\n",
       "      <td>...</td>\n",
       "    </tr>\n",
       "    <tr>\n",
       "      <th>420</th>\n",
       "      <td>CS(=O)(=O)NCC1COCCN1C(=O)C=C</td>\n",
       "    </tr>\n",
       "    <tr>\n",
       "      <th>421</th>\n",
       "      <td>COC=1C=CC=C(C1)C2CN(CCO2)C(=O)C=C</td>\n",
       "    </tr>\n",
       "    <tr>\n",
       "      <th>422</th>\n",
       "      <td>C[C@@H](NC(=O)C=C)C=1C=NC=CN1</td>\n",
       "    </tr>\n",
       "    <tr>\n",
       "      <th>423</th>\n",
       "      <td>CC(C)N1C=C(N=N1)C2=CCCN(CC2)C(=O)C=C</td>\n",
       "    </tr>\n",
       "    <tr>\n",
       "      <th>424</th>\n",
       "      <td>C=CC(=O)N1CCC=2C1=CC=CC2C3CC3</td>\n",
       "    </tr>\n",
       "  </tbody>\n",
       "</table>\n",
       "<p>425 rows × 1 columns</p>\n",
       "</div>"
      ],
      "text/plain": [
       "                                       SMILES\n",
       "0           CC=1N=C(C)N(N1)C2CCCN(C2)C(=O)C=C\n",
       "1                CN(CC1=NC=2CCCCC2S1)C(=O)C=C\n",
       "2      CC=1C=CC=C2N=C(OC12)C3CCN(CC3)C(=O)C=C\n",
       "3    COC=1C=CC=2NC=C(C3=CCN(CC3)C(=O)C=C)C2C1\n",
       "4                 C=CC(=O)NCC1COC=2C=CC=CC2O1\n",
       "..                                        ...\n",
       "420              CS(=O)(=O)NCC1COCCN1C(=O)C=C\n",
       "421         COC=1C=CC=C(C1)C2CN(CCO2)C(=O)C=C\n",
       "422             C[C@@H](NC(=O)C=C)C=1C=NC=CN1\n",
       "423      CC(C)N1C=C(N=N1)C2=CCCN(CC2)C(=O)C=C\n",
       "424             C=CC(=O)N1CCC=2C1=CC=CC2C3CC3\n",
       "\n",
       "[425 rows x 1 columns]"
      ]
     },
     "execution_count": 14,
     "metadata": {},
     "output_type": "execute_result"
    }
   ],
   "source": [
    "X"
   ]
  },
  {
   "cell_type": "code",
   "execution_count": 15,
   "id": "f01b7295",
   "metadata": {},
   "outputs": [
    {
     "data": {
      "text/plain": [
       "1    213\n",
       "0    212\n",
       "Name: RESULT, dtype: int64"
      ]
     },
     "execution_count": 15,
     "metadata": {},
     "output_type": "execute_result"
    }
   ],
   "source": [
    "Y.value_counts()"
   ]
  },
  {
   "cell_type": "code",
   "execution_count": 16,
   "id": "ab8ea5e8",
   "metadata": {},
   "outputs": [
    {
     "data": {
      "text/plain": [
       "<rdkit.DataStructs.cDataStructs.ExplicitBitVect at 0x1ab17637e60>"
      ]
     },
     "execution_count": 16,
     "metadata": {},
     "output_type": "execute_result"
    }
   ],
   "source": [
    "from rdkit import Chem\n",
    "from rdkit.Chem import MACCSkeys\n",
    "\n",
    "#Generate MACCS fingerprint\n",
    "from rdkit.Chem import MACCSkeys\n",
    "fp = MACCSkeys.GenMACCSKeys(mol)\n",
    "fp"
   ]
  },
  {
   "cell_type": "code",
   "execution_count": 17,
   "id": "58febdfe",
   "metadata": {},
   "outputs": [
    {
     "data": {
      "text/plain": [
       "'00000000000000000000001000000000001000000000000000000000000000100000000000010000000101000000100010011100010000110000011001100000100000010100000010011000011010100111110'"
      ]
     },
     "execution_count": 17,
     "metadata": {},
     "output_type": "execute_result"
    }
   ],
   "source": [
    "# Obtain the fingerprint as a binary string or array\n",
    "\n",
    "fp_string = fp.ToBitString()\n",
    "fp_array = np.array(list(fp_string), dtype=int)\n",
    "fp_string"
   ]
  },
  {
   "cell_type": "code",
   "execution_count": 18,
   "id": "840b2486",
   "metadata": {
    "scrolled": true
   },
   "outputs": [
    {
     "data": {
      "text/plain": [
       "array([0, 0, 0, 0, 0, 0, 0, 0, 0, 0, 0, 0, 0, 0, 0, 0, 0, 0, 0, 0, 0, 0,\n",
       "       1, 0, 0, 0, 0, 0, 0, 0, 0, 0, 0, 0, 1, 0, 0, 0, 0, 0, 0, 0, 0, 0,\n",
       "       0, 0, 0, 0, 0, 0, 0, 0, 0, 0, 0, 0, 0, 0, 0, 0, 0, 0, 1, 0, 0, 0,\n",
       "       0, 0, 0, 0, 0, 0, 0, 0, 0, 1, 0, 0, 0, 0, 0, 0, 0, 1, 0, 1, 0, 0,\n",
       "       0, 0, 0, 0, 1, 0, 0, 0, 1, 0, 0, 1, 1, 1, 0, 0, 0, 1, 0, 0, 0, 0,\n",
       "       1, 1, 0, 0, 0, 0, 0, 1, 1, 0, 0, 1, 1, 0, 0, 0, 0, 0, 1, 0, 0, 0,\n",
       "       0, 0, 0, 1, 0, 1, 0, 0, 0, 0, 0, 0, 1, 0, 0, 1, 1, 0, 0, 0, 0, 1,\n",
       "       1, 0, 1, 0, 1, 0, 0, 1, 1, 1, 1, 1, 0])"
      ]
     },
     "execution_count": 18,
     "metadata": {},
     "output_type": "execute_result"
    }
   ],
   "source": [
    "fp_array"
   ]
  },
  {
   "cell_type": "code",
   "execution_count": 19,
   "id": "29ab786b",
   "metadata": {},
   "outputs": [
    {
     "data": {
      "text/plain": [
       "167"
      ]
     },
     "execution_count": 19,
     "metadata": {},
     "output_type": "execute_result"
    }
   ],
   "source": [
    "len(fp_string)"
   ]
  },
  {
   "cell_type": "code",
   "execution_count": 20,
   "id": "fdbe2fd6",
   "metadata": {},
   "outputs": [
    {
     "data": {
      "text/plain": [
       "(167,)"
      ]
     },
     "execution_count": 20,
     "metadata": {},
     "output_type": "execute_result"
    }
   ],
   "source": [
    "fp_array.shape"
   ]
  },
  {
   "cell_type": "code",
   "execution_count": 21,
   "id": "e1f46403",
   "metadata": {},
   "outputs": [
    {
     "name": "stdout",
     "output_type": "stream",
     "text": [
      "0      48\n",
      "1      43\n",
      "2      44\n",
      "3      52\n",
      "4      38\n",
      "       ..\n",
      "420    67\n",
      "421    46\n",
      "422    23\n",
      "423    47\n",
      "424    33\n",
      "Name: Fingerprint_Sum, Length: 425, dtype: int32\n",
      "39.315294117647056\n"
     ]
    }
   ],
   "source": [
    "# Assuming `sol` is your DataFrame with the 'SMILES' column\n",
    "\n",
    "# Define a function to convert SMILES strings to fingerprints\n",
    "def smiles_to_fingerprint(smiles):\n",
    "    mol = Chem.MolFromSmiles(smiles)\n",
    "    fp = MACCSkeys.GenMACCSKeys(mol)\n",
    "    fingerprint = np.array(list(fp.ToBitString()), dtype=int)\n",
    "    return fingerprint\n",
    "\n",
    "# Apply the function to the 'SMILES' column and create a new column for the fingerprints\n",
    "sol['Fingerprint'] = sol['SMILES'].apply(smiles_to_fingerprint)\n",
    "\n",
    "# Access the 'SMILES' and 'Fingerprint' columns\n",
    "X = sol[['Fingerprint']]\n",
    "X\n",
    "\n",
    "sol['Fingerprint_Sum'] = sol['Fingerprint'].apply(lambda x: x.sum())\n",
    "\n",
    "# Calculate the average of the 'Fingerprint_Sum' column\n",
    "average_fingerprint_sum = sol['Fingerprint_Sum'].mean()\n",
    "\n",
    "print(sol['Fingerprint_Sum'])\n",
    "print(average_fingerprint_sum)"
   ]
  },
  {
   "cell_type": "code",
   "execution_count": 22,
   "id": "b28933e7",
   "metadata": {},
   "outputs": [],
   "source": [
    "#sol['Fingerprint_Sum'].hist()"
   ]
  },
  {
   "cell_type": "code",
   "execution_count": 23,
   "id": "d667dcc8",
   "metadata": {},
   "outputs": [
    {
     "data": {
      "text/plain": [
       "<Axes: >"
      ]
     },
     "execution_count": 23,
     "metadata": {},
     "output_type": "execute_result"
    },
    {
     "data": {
      "image/png": "[encoded data removed]",
      "text/plain": [
       "<Figure size 640x480 with 1 Axes>"
      ]
     },
     "metadata": {},
     "output_type": "display_data"
    }
   ],
   "source": [
    "sol['Fingerprint_Sum'].hist(density=1)"
   ]
  },
  {
   "cell_type": "code",
   "execution_count": 24,
   "id": "98170a76",
   "metadata": {},
   "outputs": [],
   "source": [
    "#sol2['Fingerprint_Sum'].hist(density=1)"
   ]
  },
  {
   "cell_type": "code",
   "execution_count": 25,
   "id": "20719acd",
   "metadata": {},
   "outputs": [
    {
     "name": "stdout",
     "output_type": "stream",
     "text": [
      "     0    1    2    3    4    5    6    7    8    9    ...  157  158  159  \\\n",
      "0      0    0    0    0    0    0    0    0    0    0  ...    0    1    0   \n",
      "1      0    0    0    0    0    0    0    0    0    0  ...    0    1    0   \n",
      "2      0    0    0    0    0    0    0    0    0    0  ...    0    1    1   \n",
      "3      0    0    0    0    0    0    0    0    0    0  ...    1    1    1   \n",
      "4      0    0    0    0    0    0    0    0    0    0  ...    1    1    1   \n",
      "..   ...  ...  ...  ...  ...  ...  ...  ...  ...  ...  ...  ...  ...  ...   \n",
      "420    0    0    0    0    0    0    0    0    0    0  ...    1    1    1   \n",
      "421    0    0    0    0    0    0    0    0    0    0  ...    1    1    1   \n",
      "422    0    0    0    0    0    0    0    0    0    0  ...    0    1    0   \n",
      "423    0    0    0    0    0    0    0    0    0    0  ...    0    1    0   \n",
      "424    0    0    0    0    0    0    0    0    0    0  ...    0    1    0   \n",
      "\n",
      "     160  161  162  163  164  165  166  \n",
      "0      1    1    1    1    1    1    0  \n",
      "1      1    1    1    1    1    1    0  \n",
      "2      1    1    1    1    1    1    0  \n",
      "3      1    1    1    1    1    1    0  \n",
      "4      0    1    1    1    1    1    0  \n",
      "..   ...  ...  ...  ...  ...  ...  ...  \n",
      "420    1    1    0    1    1    1    0  \n",
      "421    1    1    1    1    1    1    0  \n",
      "422    1    1    1    1    1    1    0  \n",
      "423    1    1    1    0    1    1    0  \n",
      "424    0    1    1    1    1    1    0  \n",
      "\n",
      "[425 rows x 167 columns]\n"
     ]
    },
    {
     "data": {
      "text/html": [
       "<div>\n",
       "<style scoped>\n",
       "    .dataframe tbody tr th:only-of-type {\n",
       "        vertical-align: middle;\n",
       "    }\n",
       "\n",
       "    .dataframe tbody tr th {\n",
       "        vertical-align: top;\n",
       "    }\n",
       "\n",
       "    .dataframe thead th {\n",
       "        text-align: right;\n",
       "    }\n",
       "</style>\n",
       "<table border=\"1\" class=\"dataframe\">\n",
       "  <thead>\n",
       "    <tr style=\"text-align: right;\">\n",
       "      <th></th>\n",
       "      <th>0</th>\n",
       "      <th>1</th>\n",
       "      <th>2</th>\n",
       "      <th>3</th>\n",
       "      <th>4</th>\n",
       "      <th>5</th>\n",
       "      <th>6</th>\n",
       "      <th>7</th>\n",
       "      <th>8</th>\n",
       "      <th>9</th>\n",
       "      <th>...</th>\n",
       "      <th>157</th>\n",
       "      <th>158</th>\n",
       "      <th>159</th>\n",
       "      <th>160</th>\n",
       "      <th>161</th>\n",
       "      <th>162</th>\n",
       "      <th>163</th>\n",
       "      <th>164</th>\n",
       "      <th>165</th>\n",
       "      <th>166</th>\n",
       "    </tr>\n",
       "  </thead>\n",
       "  <tbody>\n",
       "    <tr>\n",
       "      <th>0</th>\n",
       "      <td>0</td>\n",
       "      <td>0</td>\n",
       "      <td>0</td>\n",
       "      <td>0</td>\n",
       "      <td>0</td>\n",
       "      <td>0</td>\n",
       "      <td>0</td>\n",
       "      <td>0</td>\n",
       "      <td>0</td>\n",
       "      <td>0</td>\n",
       "      <td>...</td>\n",
       "      <td>0</td>\n",
       "      <td>1</td>\n",
       "      <td>0</td>\n",
       "      <td>1</td>\n",
       "      <td>1</td>\n",
       "      <td>1</td>\n",
       "      <td>1</td>\n",
       "      <td>1</td>\n",
       "      <td>1</td>\n",
       "      <td>0</td>\n",
       "    </tr>\n",
       "    <tr>\n",
       "      <th>1</th>\n",
       "      <td>0</td>\n",
       "      <td>0</td>\n",
       "      <td>0</td>\n",
       "      <td>0</td>\n",
       "      <td>0</td>\n",
       "      <td>0</td>\n",
       "      <td>0</td>\n",
       "      <td>0</td>\n",
       "      <td>0</td>\n",
       "      <td>0</td>\n",
       "      <td>...</td>\n",
       "      <td>0</td>\n",
       "      <td>1</td>\n",
       "      <td>0</td>\n",
       "      <td>1</td>\n",
       "      <td>1</td>\n",
       "      <td>1</td>\n",
       "      <td>1</td>\n",
       "      <td>1</td>\n",
       "      <td>1</td>\n",
       "      <td>0</td>\n",
       "    </tr>\n",
       "    <tr>\n",
       "      <th>2</th>\n",
       "      <td>0</td>\n",
       "      <td>0</td>\n",
       "      <td>0</td>\n",
       "      <td>0</td>\n",
       "      <td>0</td>\n",
       "      <td>0</td>\n",
       "      <td>0</td>\n",
       "      <td>0</td>\n",
       "      <td>0</td>\n",
       "      <td>0</td>\n",
       "      <td>...</td>\n",
       "      <td>0</td>\n",
       "      <td>1</td>\n",
       "      <td>1</td>\n",
       "      <td>1</td>\n",
       "      <td>1</td>\n",
       "      <td>1</td>\n",
       "      <td>1</td>\n",
       "      <td>1</td>\n",
       "      <td>1</td>\n",
       "      <td>0</td>\n",
       "    </tr>\n",
       "    <tr>\n",
       "      <th>3</th>\n",
       "      <td>0</td>\n",
       "      <td>0</td>\n",
       "      <td>0</td>\n",
       "      <td>0</td>\n",
       "      <td>0</td>\n",
       "      <td>0</td>\n",
       "      <td>0</td>\n",
       "      <td>0</td>\n",
       "      <td>0</td>\n",
       "      <td>0</td>\n",
       "      <td>...</td>\n",
       "      <td>1</td>\n",
       "      <td>1</td>\n",
       "      <td>1</td>\n",
       "      <td>1</td>\n",
       "      <td>1</td>\n",
       "      <td>1</td>\n",
       "      <td>1</td>\n",
       "      <td>1</td>\n",
       "      <td>1</td>\n",
       "      <td>0</td>\n",
       "    </tr>\n",
       "    <tr>\n",
       "      <th>4</th>\n",
       "      <td>0</td>\n",
       "      <td>0</td>\n",
       "      <td>0</td>\n",
       "      <td>0</td>\n",
       "      <td>0</td>\n",
       "      <td>0</td>\n",
       "      <td>0</td>\n",
       "      <td>0</td>\n",
       "      <td>0</td>\n",
       "      <td>0</td>\n",
       "      <td>...</td>\n",
       "      <td>1</td>\n",
       "      <td>1</td>\n",
       "      <td>1</td>\n",
       "      <td>0</td>\n",
       "      <td>1</td>\n",
       "      <td>1</td>\n",
       "      <td>1</td>\n",
       "      <td>1</td>\n",
       "      <td>1</td>\n",
       "      <td>0</td>\n",
       "    </tr>\n",
       "    <tr>\n",
       "      <th>...</th>\n",
       "      <td>...</td>\n",
       "      <td>...</td>\n",
       "      <td>...</td>\n",
       "      <td>...</td>\n",
       "      <td>...</td>\n",
       "      <td>...</td>\n",
       "      <td>...</td>\n",
       "      <td>...</td>\n",
       "      <td>...</td>\n",
       "      <td>...</td>\n",
       "      <td>...</td>\n",
       "      <td>...</td>\n",
       "      <td>...</td>\n",
       "      <td>...</td>\n",
       "      <td>...</td>\n",
       "      <td>...</td>\n",
       "      <td>...</td>\n",
       "      <td>...</td>\n",
       "      <td>...</td>\n",
       "      <td>...</td>\n",
       "      <td>...</td>\n",
       "    </tr>\n",
       "    <tr>\n",
       "      <th>420</th>\n",
       "      <td>0</td>\n",
       "      <td>0</td>\n",
       "      <td>0</td>\n",
       "      <td>0</td>\n",
       "      <td>0</td>\n",
       "      <td>0</td>\n",
       "      <td>0</td>\n",
       "      <td>0</td>\n",
       "      <td>0</td>\n",
       "      <td>0</td>\n",
       "      <td>...</td>\n",
       "      <td>1</td>\n",
       "      <td>1</td>\n",
       "      <td>1</td>\n",
       "      <td>1</td>\n",
       "      <td>1</td>\n",
       "      <td>0</td>\n",
       "      <td>1</td>\n",
       "      <td>1</td>\n",
       "      <td>1</td>\n",
       "      <td>0</td>\n",
       "    </tr>\n",
       "    <tr>\n",
       "      <th>421</th>\n",
       "      <td>0</td>\n",
       "      <td>0</td>\n",
       "      <td>0</td>\n",
       "      <td>0</td>\n",
       "      <td>0</td>\n",
       "      <td>0</td>\n",
       "      <td>0</td>\n",
       "      <td>0</td>\n",
       "      <td>0</td>\n",
       "      <td>0</td>\n",
       "      <td>...</td>\n",
       "      <td>1</td>\n",
       "      <td>1</td>\n",
       "      <td>1</td>\n",
       "      <td>1</td>\n",
       "      <td>1</td>\n",
       "      <td>1</td>\n",
       "      <td>1</td>\n",
       "      <td>1</td>\n",
       "      <td>1</td>\n",
       "      <td>0</td>\n",
       "    </tr>\n",
       "    <tr>\n",
       "      <th>422</th>\n",
       "      <td>0</td>\n",
       "      <td>0</td>\n",
       "      <td>0</td>\n",
       "      <td>0</td>\n",
       "      <td>0</td>\n",
       "      <td>0</td>\n",
       "      <td>0</td>\n",
       "      <td>0</td>\n",
       "      <td>0</td>\n",
       "      <td>0</td>\n",
       "      <td>...</td>\n",
       "      <td>0</td>\n",
       "      <td>1</td>\n",
       "      <td>0</td>\n",
       "      <td>1</td>\n",
       "      <td>1</td>\n",
       "      <td>1</td>\n",
       "      <td>1</td>\n",
       "      <td>1</td>\n",
       "      <td>1</td>\n",
       "      <td>0</td>\n",
       "    </tr>\n",
       "    <tr>\n",
       "      <th>423</th>\n",
       "      <td>0</td>\n",
       "      <td>0</td>\n",
       "      <td>0</td>\n",
       "      <td>0</td>\n",
       "      <td>0</td>\n",
       "      <td>0</td>\n",
       "      <td>0</td>\n",
       "      <td>0</td>\n",
       "      <td>0</td>\n",
       "      <td>0</td>\n",
       "      <td>...</td>\n",
       "      <td>0</td>\n",
       "      <td>1</td>\n",
       "      <td>0</td>\n",
       "      <td>1</td>\n",
       "      <td>1</td>\n",
       "      <td>1</td>\n",
       "      <td>0</td>\n",
       "      <td>1</td>\n",
       "      <td>1</td>\n",
       "      <td>0</td>\n",
       "    </tr>\n",
       "    <tr>\n",
       "      <th>424</th>\n",
       "      <td>0</td>\n",
       "      <td>0</td>\n",
       "      <td>0</td>\n",
       "      <td>0</td>\n",
       "      <td>0</td>\n",
       "      <td>0</td>\n",
       "      <td>0</td>\n",
       "      <td>0</td>\n",
       "      <td>0</td>\n",
       "      <td>0</td>\n",
       "      <td>...</td>\n",
       "      <td>0</td>\n",
       "      <td>1</td>\n",
       "      <td>0</td>\n",
       "      <td>0</td>\n",
       "      <td>1</td>\n",
       "      <td>1</td>\n",
       "      <td>1</td>\n",
       "      <td>1</td>\n",
       "      <td>1</td>\n",
       "      <td>0</td>\n",
       "    </tr>\n",
       "  </tbody>\n",
       "</table>\n",
       "<p>425 rows × 167 columns</p>\n",
       "</div>"
      ],
      "text/plain": [
       "     0    1    2    3    4    5    6    7    8    9    ...  157  158  159  \\\n",
       "0      0    0    0    0    0    0    0    0    0    0  ...    0    1    0   \n",
       "1      0    0    0    0    0    0    0    0    0    0  ...    0    1    0   \n",
       "2      0    0    0    0    0    0    0    0    0    0  ...    0    1    1   \n",
       "3      0    0    0    0    0    0    0    0    0    0  ...    1    1    1   \n",
       "4      0    0    0    0    0    0    0    0    0    0  ...    1    1    1   \n",
       "..   ...  ...  ...  ...  ...  ...  ...  ...  ...  ...  ...  ...  ...  ...   \n",
       "420    0    0    0    0    0    0    0    0    0    0  ...    1    1    1   \n",
       "421    0    0    0    0    0    0    0    0    0    0  ...    1    1    1   \n",
       "422    0    0    0    0    0    0    0    0    0    0  ...    0    1    0   \n",
       "423    0    0    0    0    0    0    0    0    0    0  ...    0    1    0   \n",
       "424    0    0    0    0    0    0    0    0    0    0  ...    0    1    0   \n",
       "\n",
       "     160  161  162  163  164  165  166  \n",
       "0      1    1    1    1    1    1    0  \n",
       "1      1    1    1    1    1    1    0  \n",
       "2      1    1    1    1    1    1    0  \n",
       "3      1    1    1    1    1    1    0  \n",
       "4      0    1    1    1    1    1    0  \n",
       "..   ...  ...  ...  ...  ...  ...  ...  \n",
       "420    1    1    0    1    1    1    0  \n",
       "421    1    1    1    1    1    1    0  \n",
       "422    1    1    1    1    1    1    0  \n",
       "423    1    1    1    0    1    1    0  \n",
       "424    0    1    1    1    1    1    0  \n",
       "\n",
       "[425 rows x 167 columns]"
      ]
     },
     "execution_count": 25,
     "metadata": {},
     "output_type": "execute_result"
    }
   ],
   "source": [
    "fingerprints = sol['Fingerprint'] \n",
    "fingerprints_df = pd.DataFrame( fingerprints.tolist())\n",
    "print(fingerprints_df)\n",
    "X=fingerprints_df\n",
    "X"
   ]
  },
  {
   "cell_type": "code",
   "execution_count": 26,
   "id": "87a67753",
   "metadata": {},
   "outputs": [
    {
     "data": {
      "text/html": [
       "<div>\n",
       "<style scoped>\n",
       "    .dataframe tbody tr th:only-of-type {\n",
       "        vertical-align: middle;\n",
       "    }\n",
       "\n",
       "    .dataframe tbody tr th {\n",
       "        vertical-align: top;\n",
       "    }\n",
       "\n",
       "    .dataframe thead th {\n",
       "        text-align: right;\n",
       "    }\n",
       "</style>\n",
       "<table border=\"1\" class=\"dataframe\">\n",
       "  <thead>\n",
       "    <tr style=\"text-align: right;\">\n",
       "      <th></th>\n",
       "      <th>RESULT</th>\n",
       "    </tr>\n",
       "  </thead>\n",
       "  <tbody>\n",
       "    <tr>\n",
       "      <th>0</th>\n",
       "      <td>0</td>\n",
       "    </tr>\n",
       "    <tr>\n",
       "      <th>1</th>\n",
       "      <td>0</td>\n",
       "    </tr>\n",
       "    <tr>\n",
       "      <th>2</th>\n",
       "      <td>0</td>\n",
       "    </tr>\n",
       "    <tr>\n",
       "      <th>3</th>\n",
       "      <td>0</td>\n",
       "    </tr>\n",
       "    <tr>\n",
       "      <th>4</th>\n",
       "      <td>0</td>\n",
       "    </tr>\n",
       "    <tr>\n",
       "      <th>...</th>\n",
       "      <td>...</td>\n",
       "    </tr>\n",
       "    <tr>\n",
       "      <th>420</th>\n",
       "      <td>1</td>\n",
       "    </tr>\n",
       "    <tr>\n",
       "      <th>421</th>\n",
       "      <td>1</td>\n",
       "    </tr>\n",
       "    <tr>\n",
       "      <th>422</th>\n",
       "      <td>1</td>\n",
       "    </tr>\n",
       "    <tr>\n",
       "      <th>423</th>\n",
       "      <td>1</td>\n",
       "    </tr>\n",
       "    <tr>\n",
       "      <th>424</th>\n",
       "      <td>1</td>\n",
       "    </tr>\n",
       "  </tbody>\n",
       "</table>\n",
       "<p>425 rows × 1 columns</p>\n",
       "</div>"
      ],
      "text/plain": [
       "     RESULT\n",
       "0         0\n",
       "1         0\n",
       "2         0\n",
       "3         0\n",
       "4         0\n",
       "..      ...\n",
       "420       1\n",
       "421       1\n",
       "422       1\n",
       "423       1\n",
       "424       1\n",
       "\n",
       "[425 rows x 1 columns]"
      ]
     },
     "execution_count": 26,
     "metadata": {},
     "output_type": "execute_result"
    }
   ],
   "source": [
    "Y=sol[['RESULT']]\n",
    "Y"
   ]
  },
  {
   "cell_type": "code",
   "execution_count": 27,
   "id": "5bbb5361",
   "metadata": {
    "scrolled": true
   },
   "outputs": [
    {
     "data": {
      "text/plain": [
       "RESULT\n",
       "1         213\n",
       "0         212\n",
       "dtype: int64"
      ]
     },
     "execution_count": 27,
     "metadata": {},
     "output_type": "execute_result"
    }
   ],
   "source": [
    "Y.value_counts()"
   ]
  },
  {
   "cell_type": "code",
   "execution_count": 28,
   "id": "2d22b0e9",
   "metadata": {},
   "outputs": [],
   "source": [
    "# oversampling  SMOTE\n",
    "\n",
    "#from imblearn.over_sampling import SMOTE\n",
    "\n",
    "#smote = SMOTE(sampling_strategy='minority')\n",
    "#X_sm, Y_sm = smote.fit_resample(X,Y)\n",
    "\n",
    "#Y_sm.value_counts()"
   ]
  },
  {
   "cell_type": "code",
   "execution_count": 29,
   "id": "fa099bc2",
   "metadata": {},
   "outputs": [],
   "source": [
    "#Y_sm.to_csv('data-1111.csv', index=False)"
   ]
  },
  {
   "cell_type": "code",
   "execution_count": 30,
   "id": "0aa00133",
   "metadata": {},
   "outputs": [],
   "source": [
    "from sklearn.model_selection import train_test_split\n",
    "\n",
    "#X_train, X_test, Y_train, Y_test = train_test_split(X_sm, Y_sm, test_size=0.2, random_state=42)\n",
    "\n",
    "X_train, X_test, Y_train, Y_test = train_test_split(X, Y, test_size=0.2, random_state=42)\n",
    "#X_train, X_val, Y_train, Y_val = train_test_split(X_train, Y_train, test_size=0.25, random_state=42)\n"
   ]
  },
  {
   "cell_type": "code",
   "execution_count": 31,
   "id": "00ac46c6",
   "metadata": {},
   "outputs": [
    {
     "data": {
      "text/plain": [
       "(340, 167)"
      ]
     },
     "execution_count": 31,
     "metadata": {},
     "output_type": "execute_result"
    }
   ],
   "source": [
    "X_train.shape"
   ]
  },
  {
   "cell_type": "code",
   "execution_count": 32,
   "id": "87a2f1da",
   "metadata": {},
   "outputs": [
    {
     "data": {
      "text/plain": [
       "(85, 167)"
      ]
     },
     "execution_count": 32,
     "metadata": {},
     "output_type": "execute_result"
    }
   ],
   "source": [
    "X_test.shape"
   ]
  },
  {
   "cell_type": "code",
   "execution_count": 197,
   "id": "30a5ce1f",
   "metadata": {},
   "outputs": [
    {
     "name": "stdout",
     "output_type": "stream",
     "text": [
      "Fitting 10 folds for each of 96 candidates, totalling 960 fits\n",
      "Best parameters found:  {'class_weight': 'balanced', 'criterion': 'entropy', 'max_depth': 20, 'max_features': None, 'random_state': 42, 'splitter': 'random'}\n",
      "Best cross-validation accuracy: 0.653\n"
     ]
    },
    {
     "data": {
      "text/plain": [
       "['svm_model_final.joblib']"
      ]
     },
     "execution_count": 197,
     "metadata": {},
     "output_type": "execute_result"
    }
   ],
   "source": [
    "\n",
    "################################### GridsearchCV  ######################################\n",
    "################################### GridsearchCV  ######################################\n",
    "################################### GridsearchCV  ######################################\n",
    "\n",
    "\n",
    "from sklearn.model_selection import GridSearchCV, KFold\n",
    "from sklearn.svm import SVC\n",
    "import sklearn\n",
    "import numpy as np\n",
    "import joblib\n",
    "\n",
    "# Assume X_sm and Y_sm are your features and labels respectively\n",
    "\n",
    "# Parameter grid for GridSearchCV\n",
    "param_grid = {\n",
    "    'criterion': ['gini', 'entropy'],  # 'log_loss' is not directly supported in sklearn's DecisionTree\n",
    "    'splitter': ['best', 'random'],\n",
    "    'max_depth': [None, 10, 20, 30],  # None means unlimited\n",
    "    #'min_samples_split': [2, 5, 10],\n",
    "    #'min_samples_leaf': [1, 2, 4],\n",
    "    'max_features': [None, 'sqrt', 'log2'],  # None means use all features\n",
    "    'class_weight': [None, 'balanced'],\n",
    "    'random_state': [42]  # Ensure reproducibility\n",
    "}\n",
    "   \n",
    "\n",
    "# Create an SVM model with verbose output during model fitting (verbose=1 for some output, higher for more)\n",
    "clf = DecisionTreeClassifier()\n",
    "svm_model=clf\n",
    "\n",
    "# Define 10-fold cross-validation\n",
    "kf = KFold(n_splits=10, shuffle=True, random_state=42)\n",
    "\n",
    "# Configure GridSearchCV with increased verbosity for more detailed search output\n",
    "grid_search = GridSearchCV(estimator=svm_model, param_grid=param_grid, scoring='precision', cv=kf, verbose=3, n_jobs=-1)\n",
    "\n",
    "# Perform the search\n",
    "grid_search.fit(X, Y)\n",
    "\n",
    "# Results\n",
    "print(\"Best parameters found: \", grid_search.best_params_)\n",
    "print(\"Best cross-validation accuracy: {:.3f}\".format(grid_search.best_score_))\n",
    "\n",
    "# Best model (retrained on the entire dataset)\n",
    "best_model = grid_search.best_estimator_\n",
    "\n",
    "# Save the retrained model\n",
    "joblib.dump(best_model, 'svm_model_final.joblib')"
   ]
  },
  {
   "cell_type": "code",
   "execution_count": 34,
   "id": "e98f968c",
   "metadata": {},
   "outputs": [
    {
     "name": "stdout",
     "output_type": "stream",
     "text": [
      "Accuracy scores for each fold:\n",
      "Fold 1: 0.590\n",
      "Fold 2: 0.648\n",
      "Fold 3: 0.595\n",
      "Fold 4: 0.585\n",
      "Fold 5: 0.595\n",
      "\n",
      "Average accuracy: 0.603\n",
      "\n",
      "Average precision: 0.603\n",
      "Average Recall: 0.622\n",
      "Average F1 Score: 0.610\n"
     ]
    },
    {
     "data": {
      "text/plain": [
       "['svm_model_final.joblib']"
      ]
     },
     "execution_count": 34,
     "metadata": {},
     "output_type": "execute_result"
    }
   ],
   "source": [
    "##################################KFOLD##################################################\n",
    "##################################KFOLD##################################################\n",
    "##################################KFOLD##################################################\n",
    "\n",
    "from sklearn.model_selection import cross_val_score, KFold\n",
    "from sklearn.svm import SVC\n",
    "from sklearn.tree import DecisionTreeClassifier\n",
    "import numpy as np\n",
    "import joblib\n",
    "from sklearn.metrics import recall_score, f1_score, confusion_matrix\n",
    "\n",
    "# Assume X_sm and Y_sm are your features and labels respectively\n",
    "\n",
    "# Create an SVM model\n",
    "#svm_model = SVC(kernel='rbf', C=1.0, gamma='scale')\n",
    "\n",
    "# Create an c4.5 decision tree\n",
    "clf = DecisionTreeClassifier(\n",
    "    class_weight='balanced',\n",
    "    criterion= 'entropy',\n",
    "    max_depth= None,\n",
    "    random_state= 42,\n",
    "    splitter= 'best')\n",
    "\n",
    "svm_model=clf\n",
    "\n",
    "# Define 10-fold cross-validation\n",
    "kf = KFold(n_splits=5, shuffle=True, random_state=42)\n",
    "\n",
    "# Perform 10-fold cross-validation\n",
    "#accuracy_scores = cross_val_score(svm_model, X_sm, Y_sm, cv=kf, scoring='precision')\n",
    "accuracy_scores = cross_val_score(svm_model, X, Y, cv=kf, scoring='precision')\n",
    "\n",
    "# Perform 10-fold cross-validation for precision\n",
    "precision_scores = cross_val_score(svm_model, X, Y, cv=kf, scoring='precision')\n",
    "\n",
    "recall_scores = cross_val_score(svm_model, X, Y, cv=kf, scoring='recall')\n",
    "f1_scores = cross_val_score(svm_model, X, Y, cv=kf, scoring='f1')\n",
    "\n",
    "\n",
    "# Print the accuracy for each fold\n",
    "print(\"Accuracy scores for each fold:\")\n",
    "for i, score in enumerate(accuracy_scores, 1):\n",
    "    print(f\"Fold {i}: {score:.3f}\")\n",
    "\n",
    "# Print the average accuracy across all folds\n",
    "print(f\"\\nAverage accuracy: {np.mean(accuracy_scores):.3f}\")\n",
    "print(f\"\\nAverage precision: {np.mean(precision_scores):.3f}\")\n",
    "\n",
    "print(f\"Average Recall: {np.mean(recall_scores):.3f}\")\n",
    "print(f\"Average F1 Score: {np.mean(f1_scores):.3f}\")\n",
    "# If satisfied with the average accuracy, you might choose to retrain the model on the entire dataset\n",
    "#svm_model.fit(X_sm, Y_sm)\n",
    "svm_model.fit(X, Y)\n",
    "\n",
    "# Save the retrained model\n",
    "joblib.dump(svm_model, 'svm_model_final.joblib')\n"
   ]
  }
 ],
 "metadata": {
  "kernelspec": {
   "display_name": "Python 3 (ipykernel)",
   "language": "python",
   "name": "python3"
  },
  "language_info": {
   "codemirror_mode": {
    "name": "ipython",
    "version": 3
   },
   "file_extension": ".py",
   "mimetype": "text/x-python",
   "name": "python",
   "nbconvert_exporter": "python",
   "pygments_lexer": "ipython3",
   "version": "3.10.9"
  }
 },
 "nbformat": 4,
 "nbformat_minor": 5
}
